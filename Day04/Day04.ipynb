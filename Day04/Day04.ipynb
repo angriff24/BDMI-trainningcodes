{
 "cells": [
  {
   "cell_type": "code",
   "execution_count": 7,
   "metadata": {},
   "outputs": [],
   "source": [
    "import random\n",
    "\n",
    "def QuickSort(A):\n",
    "    if len(A) <= 1: return A\n",
    "    L = []\n",
    "    R = []\n",
    "    p = random.choice(A)\n",
    "    for i in A:\n",
    "        if i < p:\n",
    "            L.append(i)\n",
    "        elif i > p:\n",
    "            R.append(i)\n",
    "    return QuickSort(L) + [p] + QuickSort(R)"
   ]
  },
  {
   "cell_type": "code",
   "execution_count": 8,
   "metadata": {},
   "outputs": [
    {
     "data": {
      "text/plain": [
       "[1, 2, 3, 4, 5, 6, 7, 8, 9]"
      ]
     },
     "execution_count": 8,
     "metadata": {},
     "output_type": "execute_result"
    }
   ],
   "source": [
    "QuickSort([6,4,2,9,3,8,5,1,7])"
   ]
  },
  {
   "cell_type": "code",
   "execution_count": 10,
   "metadata": {},
   "outputs": [],
   "source": [
    "def bucket_sort(A, min_value, max_value):\n",
    "    buckets = [[] for _ in range(min_value, max_value+1)]\n",
    "    for x in A:\n",
    "        # implement it by yourself (将数放到对应的桶里)\n",
    "        buckets[x].append(x)\n",
    "    sorted_arr = []\n",
    "    for bucket in buckets:\n",
    "        # implement it by yourself (按顺序合并所有的桶)\n",
    "        sorted_arr.extend(bucket)\n",
    "    return sorted_arr"
   ]
  },
  {
   "cell_type": "code",
   "execution_count": 11,
   "metadata": {},
   "outputs": [
    {
     "name": "stdout",
     "output_type": "stream",
     "text": [
      "[0, 1, 2, 3, 4, 5, 6, 7, 8, 9]\n"
     ]
    }
   ],
   "source": [
    "arr = [5,1,2,7,3,9,4,0,6,8]\n",
    "sorted_arr = bucket_sort(arr, 0, 9)\n",
    "print(sorted_arr)"
   ]
  },
  {
   "cell_type": "code",
   "execution_count": null,
   "metadata": {},
   "outputs": [],
   "source": [
    "i"
   ]
  },
  {
   "cell_type": "code",
   "execution_count": 13,
   "metadata": {},
   "outputs": [],
   "source": [
    "class Node:\n",
    "    def __init__(self,value,node = 0):\n",
    "        self.value = value\n",
    "        self.next = node"
   ]
  },
  {
   "cell_type": "code",
   "execution_count": null,
   "metadata": {},
   "outputs": [],
   "source": [
    "class LinkedList:\n",
    "    def __init__(self,value=0, *args):\n",
    "        self.lenth = 0\n",
    "        # 创建表头head\n",
    "        self.head = 0 if value == 0 else Node(value)\n",
    "        # 如果初始化实例时传入多个参数，循环加入链表\n",
    "        p = self.head\n",
    "        for i in [*args]:\n",
    "            node = Node(i)\n",
    "            p.next = node\n",
    "            p = p.next\n",
    "\n",
    "    def printLinkedList(self):\n",
    "        self.p = self.head\n",
    "        while self.p:\n",
    "            print(self.p.value)\n",
    "            if not self.p.next:\n",
    "                return self.p\n",
    "            self.p = self.p.next\n",
    "\n",
    "#在此添加代码append,insert\n",
    "    def append(self,value):\n",
    "        new_node=Node(value)\n",
    "        cur=self.head\n",
    "        while cur.next!=0:\n",
    "            cur=cur.next\n",
    "        cur.next=new_node\n",
    "\n",
    "    def insert(self,value):\n",
    "        #请在此添加代码，写代码时删除pass\n",
    "        \n",
    "        pass\n",
    "\n",
    "    def insert_anywhere(self,index,value):\n",
    "        if self.head is None or index <= 0:\n",
    "            self.head = Node(value,self.head)\n",
    "        else:\n",
    "            temp = self.head\n",
    "            while index > 1 and temp.next != None:\n",
    "                temp = temp.next\n",
    "                index = index-1\n",
    "            temp.next = Node(value,temp.next)\n",
    "        self.lenth = self.lenth+1\n",
    "    def searchIndex(self,value):\n",
    "        temp = self.head\n",
    "        index = 0\n",
    "        while temp != None and value != temp.value:\n",
    "            index = index+1\n",
    "            temp = temp.next\n",
    "        return index\n",
    "\n",
    "\n",
    "    def delete(self,value):\n",
    "        index = self.searchIndex(value)\n",
    "        if index <=0 or self.head.next is None:\n",
    "            removeItem = self.head.value\n",
    "            self.head = self.head.next\n",
    "        else:\n",
    "            temp = self.head\n",
    "            while index>1 and temp.next.next != None:\n",
    "                temp = temp.next\n",
    "                index = index-1\n",
    "            removeItem = temp.next.value\n",
    "            temp.next = temp.next.next\n",
    "        self.lenth = self.lenth -1"
   ]
  },
  {
   "cell_type": "code",
   "execution_count": null,
   "metadata": {},
   "outputs": [],
   "source": [
    "l = LinkedList(7,5,3,4,1,2,8)"
   ]
  },
  {
   "cell_type": "code",
   "execution_count": null,
   "metadata": {},
   "outputs": [],
   "source": []
  },
  {
   "cell_type": "code",
   "execution_count": 14,
   "metadata": {},
   "outputs": [],
   "source": [
    "# 节点类\n",
    "class Node:\n",
    "    # 用类成员函数进行节点初始化\n",
    "    def __init__(self, value):\n",
    "        self.value = value\n",
    "        self.lchild = None\n",
    "        self.rchild = None\n",
    "\n",
    "# BST树类\n",
    "class BST:\n",
    "    # 用类成员函数进行BST初始化\n",
    "    def __init__(self, node_list):\n",
    "        self.root = Node(node_list[0])\n",
    "        for value in node_list[1:]:\n",
    "            self.insert(value)\n",
    "    # 搜索拥有某值的节点操作\n",
    "    def search(self, node, parent, value):\n",
    "        if node is None:\n",
    "            return False, node, parent\n",
    "        if node.value == value:\n",
    "            return True, node, parent\n",
    "        # 小的在左孩子，大于等于的在右孩子\n",
    "        if node.value > value:\n",
    "            return self.search(node.lchild, node, value)\n",
    "        else:\n",
    "            return self.search(node.rchild, node, value)\n",
    "\n",
    "    # 插入某值的节点操作\n",
    "    def insert(self, value):\n",
    "        flag, n, p = self.search(self.root, self.root, value)\n",
    "        if not flag:\n",
    "            new_node = Node(value)\n",
    "            if value > p.value:\n",
    "                p.rchild = new_node\n",
    "            else:\n",
    "                p.lchild = new_node\n",
    "\n",
    "    # 删除某值的节点\n",
    "    def delete(self, value):\n",
    "        flag, n, p = self.search(self.root, self.root, value)\n",
    "        if flag is False:\n",
    "            print(\"Can't find the key! Delete failed!\")\n",
    "        else:\n",
    "            #当左子树为空时\n",
    "            if n.lchild is None:\n",
    "                if n == p.lchild:\n",
    "                    p.lchild = n.rchild\n",
    "                else:\n",
    "                    p.rchild = n.rchild\n",
    "                    \n",
    "            #当右子树为空时\n",
    "            elif n.rchild is None:\n",
    "                if n == p.lchild:\n",
    "                    p.lchild = n.lchild\n",
    "                else:\n",
    "                    p.rchild = n.lchild\n",
    "            else:\n",
    "                #当左右都不为空时，选择右子树\n",
    "                pre = n.rchild\n",
    "                if pre.lchild is None:\n",
    "                    #如果左子树为空，直接将右子树上移\n",
    "                    n.value = pre.value\n",
    "                    n.rchild = pre.rchild\n",
    "                else:\n",
    "                    #如果左子树不为空，直接迭代到左子树根节点\n",
    "                    next = pre.lchild\n",
    "                    while next.lchild is not None:\n",
    "                        #迭代，在这里写代码，写代码时候删除pass\n",
    "                        pass\n",
    "                    n.value = next.value\n",
    "                    pre.lchild = next.rchild\n",
    "    # 先序遍历\n",
    "    def pre_order_traverse(self, node):\n",
    "        if node is not None:\n",
    "            print(node.value)\n",
    "            self.pre_order_traverse(node.lchild)\n",
    "            self.pre_order_traverse(node.rchild)\n",
    "\n",
    "    # 中序遍历\n",
    "    def in_order_traverse(self, node):8\n",
    "        if node is not None:\n",
    "            #在这里写中序遍历代码，写的时候删除pass\n",
    "            pass\n",
    "\n",
    "    # 后序遍历\n",
    "    def post_order_traverse(self, node):\n",
    "        if node is not None:\n",
    "            self.post_order_traverse(node.lchild)\n",
    "            self.post_order_traverse(node.rchild)\n",
    "            print(node.value)"
   ]
  },
  {
   "cell_type": "code",
   "execution_count": 15,
   "metadata": {},
   "outputs": [],
   "source": [
    "array = [7,5,3,4,1,2,8]"
   ]
  },
  {
   "cell_type": "code",
   "execution_count": null,
   "metadata": {},
   "outputs": [],
   "source": []
  }
 ],
 "metadata": {
  "kernelspec": {
   "display_name": "Python 3",
   "language": "python",
   "name": "python3"
  },
  "language_info": {
   "codemirror_mode": {
    "name": "ipython",
    "version": 3
   },
   "file_extension": ".py",
   "mimetype": "text/x-python",
   "name": "python",
   "nbconvert_exporter": "python",
   "pygments_lexer": "ipython3",
   "version": "3.7.4"
  }
 },
 "nbformat": 4,
 "nbformat_minor": 4
}
