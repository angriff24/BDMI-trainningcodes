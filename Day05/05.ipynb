{
 "cells": [
  {
   "cell_type": "code",
   "execution_count": 9,
   "metadata": {},
   "outputs": [],
   "source": [
    "def hash(x):\n",
    "    return 7*x%5\n",
    "\n",
    "def save(x):\n",
    "    global table\n",
    "    table[hash(x)].append(x)\n",
    "\n",
    "def remove(x):\n",
    "    global table\n",
    "    table[hash(x)].remove(x)\n",
    "    \n",
    "table = []\n",
    "for i in range(5):\n",
    "    table.append([])"
   ]
  },
  {
   "cell_type": "code",
   "execution_count": 10,
   "metadata": {},
   "outputs": [
    {
     "data": {
      "text/plain": [
       "[[5], [3, 8], [1], [4], [7, 2]]"
      ]
     },
     "execution_count": 10,
     "metadata": {},
     "output_type": "execute_result"
    }
   ],
   "source": [
    "arr = [7,5,3,4,1,2,8]\n",
    "for i in arr:\n",
    "    save(i)\n",
    "table"
   ]
  },
  {
   "cell_type": "code",
   "execution_count": 11,
   "metadata": {},
   "outputs": [
    {
     "data": {
      "text/plain": [
       "[[5], [3, 8], [1], [9], [7, 2]]"
      ]
     },
     "execution_count": 11,
     "metadata": {},
     "output_type": "execute_result"
    }
   ],
   "source": [
    "save(9)\n",
    "remove(4)\n",
    "table"
   ]
  },
  {
   "cell_type": "code",
   "execution_count": 12,
   "metadata": {},
   "outputs": [
    {
     "data": {
      "text/plain": [
       "<sqlite3.Cursor at 0x225083709d0>"
      ]
     },
     "execution_count": 12,
     "metadata": {},
     "output_type": "execute_result"
    }
   ],
   "source": [
    "import sqlite3\n",
    "\n",
    "db = sqlite3.connect('university2.db')\n",
    "cursor = db.cursor()\n",
    "cursor.execute(\"\"\"\n",
    "CREATE TABLE IF NOT EXISTS class(\n",
    "id integer PRIMARY KEY, name text NOT NULL, teacher text NOT NULL);\"\"\")\n"
   ]
  },
  {
   "cell_type": "code",
   "execution_count": 13,
   "metadata": {},
   "outputs": [
    {
     "data": {
      "text/plain": [
       "[(102, 'Python', 'CZ')]"
      ]
     },
     "execution_count": 13,
     "metadata": {},
     "output_type": "execute_result"
    }
   ],
   "source": [
    "cursor.execute(\"\"\"\n",
    "INSERT INTO class(id, name, teacher)\n",
    "VALUES(102, 'Python', 'CZ')\"\"\")\n",
    "db.commit()\n",
    "cursor.execute(\"\"\"SELECT * FROM CLASS\"\"\")\n",
    "cursor.fetchall()\n"
   ]
  },
  {
   "cell_type": "code",
   "execution_count": 14,
   "metadata": {},
   "outputs": [],
   "source": [
    "db.close()"
   ]
  },
  {
   "cell_type": "code",
   "execution_count": 22,
   "metadata": {},
   "outputs": [
    {
     "ename": "OperationalError",
     "evalue": "table enrolled has no column named student",
     "output_type": "error",
     "traceback": [
      "\u001b[1;31m---------------------------------------------------------------------------\u001b[0m",
      "\u001b[1;31mOperationalError\u001b[0m                          Traceback (most recent call last)",
      "\u001b[1;32m<ipython-input-22-6707acfa30a1>\u001b[0m in \u001b[0;36m<module>\u001b[1;34m\u001b[0m\n\u001b[0;32m      3\u001b[0m \u001b[1;33m\u001b[0m\u001b[0m\n\u001b[0;32m      4\u001b[0m cursor.execute(\"\"\"INSERT INTO enrolled(student, class, grade) \n\u001b[1;32m----> 5\u001b[1;33m VALUES(1, 100, 80)\"\"\")\n\u001b[0m\u001b[0;32m      6\u001b[0m cursor.execute(\"\"\"INSERT INTO enrolled(student, class, grade) \n\u001b[0;32m      7\u001b[0m VALUES(2, 102, 90)\"\"\")\n",
      "\u001b[1;31mOperationalError\u001b[0m: table enrolled has no column named student"
     ]
    }
   ],
   "source": [
    "db = sqlite3.connect('university2.db')\n",
    "cursor = db.cursor()\n",
    "cursor.execute(\"\"\"CREATE TABLE enrolled\n",
    "(student integer PRIMARY KEY, class integer, grade integer);\"\"\")\n",
    "cursor.execute(\"\"\"INSERT INTO enrolled(student, class, grade) \n",
    "VALUES(1, 100, 80)\"\"\")\n",
    "cursor.execute(\"\"\"INSERT INTO enrolled(student, class, grade) \n",
    "VALUES(2, 102, 90)\"\"\")\n",
    "cursor.execute(\"\"\"INSERT INTO enrolled(student, class, grade) \n",
    "VALUES(3, 101, 70)\"\"\")\n",
    "db.commit()\n",
    "cursor.execute(\"SELECT * FROM enrolled\")\n",
    "print(cursor.fetchall())\n",
    "db.close()"
   ]
  },
  {
   "cell_type": "code",
   "execution_count": null,
   "metadata": {},
   "outputs": [],
   "source": []
  }
 ],
 "metadata": {
  "kernelspec": {
   "display_name": "Python 3",
   "language": "python",
   "name": "python3"
  },
  "language_info": {
   "codemirror_mode": {
    "name": "ipython",
    "version": 3
   },
   "file_extension": ".py",
   "mimetype": "text/x-python",
   "name": "python",
   "nbconvert_exporter": "python",
   "pygments_lexer": "ipython3",
   "version": "3.7.4"
  }
 },
 "nbformat": 4,
 "nbformat_minor": 4
}
