{
 "metadata": {
  "language_info": {
   "codemirror_mode": {
    "name": "ipython",
    "version": 3
   },
   "file_extension": ".py",
   "mimetype": "text/x-python",
   "name": "python",
   "nbconvert_exporter": "python",
   "pygments_lexer": "ipython3",
   "version": "3.7.4-final"
  },
  "orig_nbformat": 2,
  "kernelspec": {
   "name": "python37432bit15e9e7b1c53b4df2b34718b8e558de1c",
   "display_name": "Python 3.7.4 32-bit"
  }
 },
 "nbformat": 4,
 "nbformat_minor": 2,
 "cells": [
  {
   "cell_type": "code",
   "execution_count": 1,
   "metadata": {},
   "outputs": [
    {
     "output_type": "execute_result",
     "data": {
      "text/plain": [
       "0.10536051565782628"
      ]
     },
     "metadata": {},
     "execution_count": 1
    }
   ],
   "source": [
    "#%%\n",
    "import numpy as np\n",
    "a = np.array([1,0])\n",
    "b = np.array([0.9,0.1])\n",
    "\n",
    "def CE(a, b):\n",
    "    return -a.dot(np.log(b))\n",
    "\n",
    "CE(a, b)\n"
   ]
  },
  {
   "cell_type": "code",
   "execution_count": 2,
   "metadata": {},
   "outputs": [
    {
     "output_type": "execute_result",
     "data": {
      "text/plain": [
       "0.2231435513142097"
      ]
     },
     "metadata": {},
     "execution_count": 2
    }
   ],
   "source": [
    "# %%\n",
    "a = np.array([0,1])\n",
    "b = np.array([0.2,0.8])\n",
    "CE(a, b)\n",
    "# %%"
   ]
  },
  {
   "cell_type": "code",
   "execution_count": null,
   "metadata": {},
   "outputs": [],
   "source": []
  }
 ]
}